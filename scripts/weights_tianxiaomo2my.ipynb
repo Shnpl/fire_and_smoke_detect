{
 "cells": [
  {
   "cell_type": "code",
   "execution_count": null,
   "metadata": {},
   "outputs": [],
   "source": [
    "import torch"
   ]
  },
  {
   "cell_type": "code",
   "execution_count": null,
   "metadata": {},
   "outputs": [],
   "source": [
    "weights = torch.load(\"weights/tianxiaomo_yolov4.pth\")"
   ]
  },
  {
   "cell_type": "code",
   "execution_count": null,
   "metadata": {},
   "outputs": [],
   "source": [
    "import models.Yet_Another_YOLOv4_Pytorch.model as model"
   ]
  },
  {
   "cell_type": "code",
   "execution_count": null,
   "metadata": {},
   "outputs": [],
   "source": [
    "import pandas as pd"
   ]
  },
  {
   "cell_type": "code",
   "execution_count": null,
   "metadata": {},
   "outputs": [],
   "source": [
    "m = model.YOLOv4()"
   ]
  },
  {
   "cell_type": "code",
   "execution_count": null,
   "metadata": {},
   "outputs": [],
   "source": [
    "weights_to_insert = m.state_dict()"
   ]
  },
  {
   "cell_type": "code",
   "execution_count": null,
   "metadata": {},
   "outputs": [],
   "source": [
    "chweights = list(weights.keys())"
   ]
  },
  {
   "cell_type": "code",
   "execution_count": null,
   "metadata": {},
   "outputs": [],
   "source": [
    "myweights = list(weights_to_insert.keys())"
   ]
  },
  {
   "cell_type": "markdown",
   "metadata": {},
   "source": [
    "Conv 3 12:18 to 36:42"
   ]
  },
  {
   "cell_type": "code",
   "execution_count": null,
   "metadata": {},
   "outputs": [],
   "source": [
    "def get_same(ch_name, my_name):\n",
    "    my_weights = [w for w in myweights if my_name in w]\n",
    "    ch_weights = [w for  w in chweights if ch_name in w]\n",
    "#     print(len(my_weights))\n",
    "#     print(len(ch_weights))\n",
    "    assert len(my_weights) == len(ch_weights)\n",
    "    return list(zip(ch_weights, my_weights))"
   ]
  },
  {
   "cell_type": "code",
   "execution_count": null,
   "metadata": {},
   "outputs": [],
   "source": [
    "ch2my = [\"down1.conv1\", \"backbone.d1.c1\",\n",
    "\"down1.conv2\", \"backbone.d1.c2\",\n",
    "\"down1.conv3\", \"backbone.d1.dense_c3_c6\",\n",
    "\"down1.conv4\", \"backbone.d1.c3\",\n",
    "\"down1.conv5\", \"backbone.d1.c4\",\n",
    "\"down1.conv6\", \"backbone.d1.c5\",\n",
    "\"down1.conv7\", \"backbone.d1.c6\",\n",
    "\"down1.conv8\", \"backbone.d1.c7\",\n",
    "\n",
    "#SAME FOR d3 d4 d5\n",
    "\"down2.conv1\", \"backbone.d2.c1\",\n",
    "\"down2.conv2\", \"backbone.d2.dense_c2_c4\",\n",
    "\"down2.conv3\", \"backbone.d2.c2\",\n",
    "\"down2.resblock\", \"backbone.d2.r3\",\n",
    "\"down2.conv4\", \"backbone.d2.c4\",\n",
    "\"down2.conv5\", \"backbone.d2.c5\",\n",
    "\n",
    "\"down3.conv1\", \"backbone.d3.c1\",\n",
    "\"down3.conv2\", \"backbone.d3.dense_c2_c4\",\n",
    "\"down3.conv3\", \"backbone.d3.c2\",\n",
    "\"down3.resblock\", \"backbone.d3.r3\",\n",
    "\"down3.conv4\", \"backbone.d3.c4\",\n",
    "\"down3.conv5\", \"backbone.d3.c5\",\n",
    "\n",
    "\"down4.conv1\", \"backbone.d4.c1\",\n",
    "\"down4.conv2\", \"backbone.d4.dense_c2_c4\",\n",
    "\"down4.conv3\", \"backbone.d4.c2\",\n",
    "\"down4.resblock\", \"backbone.d4.r3\",\n",
    "\"down4.conv4\", \"backbone.d4.c4\",\n",
    "\"down4.conv5\", \"backbone.d4.c5\",\n",
    "\n",
    "\"down5.conv1\", \"backbone.d5.c1\",\n",
    "\"down5.conv2\", \"backbone.d5.dense_c2_c4\",\n",
    "\"down5.conv3\", \"backbone.d5.c2\",\n",
    "\"down5.resblock\", \"backbone.d5.r3\",\n",
    "\"down5.conv4\", \"backbone.d5.c4\",\n",
    "\"down5.conv5\", \"backbone.d5.c5\",\n",
    "\n",
    "\"neek.conv1.\", \"neck.c1.\",\n",
    "\"neek.conv2.\", \"neck.c2.\",\n",
    "\"neek.conv3.\", \"neck.c3.\",\n",
    "\"neek.conv4.\", \"neck.c5.\",\n",
    "\"neek.conv5.\", \"neck.c6.\",\n",
    "\"neek.conv6.\", \"neck.c7.\",\n",
    "\n",
    "\"neek.conv7.\", \"neck.PAN8.c1\",\n",
    "\"neek.conv8.\", \"neck.PAN8.c2_from_upsampled\",\n",
    "\"neek.conv9.\", \"neck.PAN8.c3\",\n",
    "\"neek.conv10.\", \"neck.PAN8.c4\",\n",
    "\"neek.conv11.\", \"neck.PAN8.c5\",\n",
    "\"neek.conv12.\", \"neck.PAN8.c6\",\n",
    "\"neek.conv13.\", \"neck.PAN8.c7\",\n",
    "\n",
    "\"neek.conv14\", \"neck.PAN9.c1\",\n",
    "\"neek.conv15\", \"neck.PAN9.c2_from_upsampled\",\n",
    "\"neek.conv16\", \"neck.PAN9.c3\",\n",
    "\"neek.conv17\", \"neck.PAN9.c4\",\n",
    "\"neek.conv18.\", \"neck.PAN9.c5\",\n",
    "\"neek.conv19.\", \"neck.PAN9.c6\",\n",
    "\"neek.conv20.\", \"neck.PAN9.c7\",\n",
    "\n",
    "\"head.conv1.\", \"head.ho1.c1\",\n",
    "\"head.conv2.\", \"head.ho1.c2\",\n",
    "\n",
    "\"head.conv3.\", \"head.hp2.c1\",\n",
    "\"head.conv4.\", \"head.hp2.c2\",\n",
    "\"head.conv5.\", \"head.hp2.c3\",\n",
    "\"head.conv6.\", \"head.hp2.c4\",\n",
    "\"head.conv7.\", \"head.hp2.c5\",\n",
    "\"head.conv8.\", \"head.hp2.c6\",\n",
    "\n",
    "\"head.conv9.\", \"head.ho2.c1\",\n",
    "\"head.conv10.\", \"head.ho2.c2\",\n",
    "\n",
    "\"head.conv11.\", \"head.hp3.c1\",\n",
    "\"head.conv12.\", \"head.hp3.c2\",\n",
    "\"head.conv13.\", \"head.hp3.c3\",\n",
    "\"head.conv14.\", \"head.hp3.c4\",\n",
    "\"head.conv15.\", \"head.hp3.c5\",\n",
    "\"head.conv16.\", \"head.hp3.c6\",\n",
    "\n",
    "\"head.conv17.\", \"head.ho3.c1\",\n",
    "\"head.conv18.\", \"head.ho3.c2\"]"
   ]
  },
  {
   "cell_type": "code",
   "execution_count": null,
   "metadata": {},
   "outputs": [],
   "source": [
    "list_c2m = []\n",
    "for ch, my in list(zip(ch2my[::2], ch2my[1::2])):\n",
    "    list_c2m += get_same(ch, my)"
   ]
  },
  {
   "cell_type": "code",
   "execution_count": null,
   "metadata": {},
   "outputs": [],
   "source": [
    "dict_c2m = dict(list_c2m)"
   ]
  },
  {
   "cell_type": "code",
   "execution_count": null,
   "metadata": {},
   "outputs": [],
   "source": [
    "new_weights = dict((dict_c2m[wname], w) for (wname, w) in weights.items())"
   ]
  },
  {
   "cell_type": "code",
   "execution_count": null,
   "metadata": {},
   "outputs": [],
   "source": [
    "m.load_state_dict(new_weights)"
   ]
  },
  {
   "cell_type": "code",
   "execution_count": null,
   "metadata": {},
   "outputs": [],
   "source": []
  }
 ],
 "metadata": {
  "kernelspec": {
   "display_name": "Python 3",
   "language": "python",
   "name": "python3"
  },
  "language_info": {
   "codemirror_mode": {
    "name": "ipython",
    "version": 3
   },
   "file_extension": ".py",
   "mimetype": "text/x-python",
   "name": "python",
   "nbconvert_exporter": "python",
   "pygments_lexer": "ipython3",
   "version": "3.10.13"
  }
 },
 "nbformat": 4,
 "nbformat_minor": 4
}
